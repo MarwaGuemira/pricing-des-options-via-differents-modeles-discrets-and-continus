{
 "cells": [
  {
   "cell_type": "markdown",
   "metadata": {},
   "source": [
    "# --------- Pricing Des Options Via Différents Modèles Discrets & Continus ----------\n",
    "\n",
    "## Elaboré par:\n",
    "### -Iheb Mensi\n",
    "### -Marwa Guemira\n",
    "### -Rimel Morjane\n"
   ]
  },
  {
   "cell_type": "markdown",
   "metadata": {},
   "source": [
    "## 1- Installation des Packages "
   ]
  },
  {
   "cell_type": "code",
   "execution_count": 33,
   "metadata": {},
   "outputs": [],
   "source": [
    "options(warn=-1)"
   ]
  },
  {
   "cell_type": "code",
   "execution_count": 34,
   "metadata": {},
   "outputs": [],
   "source": [
    "install.packages(\"fOptions\")\n",
    "install.packages(\"timeDate\")\n",
    "install.packages(\"timeSeries\")\n",
    "install.packages(\"fBasics\")\n",
    "install.packages(\"qrmtools\")"
   ]
  },
  {
   "cell_type": "code",
   "execution_count": 720,
   "metadata": {},
   "outputs": [],
   "source": [
    "library(fOptions)\n",
    "library(timeDate)\n",
    "library(timeSeries)\n",
    "library(fBasics)\n",
    "library(qrmtools)"
   ]
  },
  {
   "cell_type": "markdown",
   "metadata": {},
   "source": [
    "## 2- Modélisation numérique du modèle Cox Ross Runinstein .\n",
    "### 2.1-  Creation d'un modèle binômial From scratch \n",
    "#### 2.1.1- l’arbre de l’évolution du prix de l’action"
   ]
  },
  {
   "cell_type": "code",
   "execution_count": 721,
   "metadata": {},
   "outputs": [],
   "source": [
    "build_stock_tree = function(S, sigma, delta_t, N) {\n",
    "  tree = matrix(0, nrow=N+1, ncol=N+1)\n",
    "  \n",
    "  u = exp(sigma*sqrt(delta_t))\n",
    "  d = exp(-sigma*sqrt(delta_t))\n",
    "  \n",
    "  for (i in 1:(N+1)) {\n",
    "    for (j in 1:i) {\n",
    " \n",
    "      tree[j,i] = S * d^(j-1) * u^((i-1)-(j-1))\n",
    "\n",
    "    }\n",
    "  }\n",
    " \n",
    "  return(list(tree=tree,u=u,d=d))\n",
    "}"
   ]
  },
  {
   "cell_type": "code",
   "execution_count": 722,
   "metadata": {},
   "outputs": [
    {
     "data": {
      "text/html": [
       "<dl>\n",
       "\t<dt>$tree</dt>\n",
       "\t\t<dd><table>\n",
       "<tbody>\n",
       "\t<tr><td>10       </td><td>15.284652</td><td>23.362057</td><td>35.708091</td><td>54.578573</td></tr>\n",
       "\t<tr><td> 0       </td><td> 6.542511</td><td>10.000000</td><td>15.284652</td><td>23.362057</td></tr>\n",
       "\t<tr><td> 0       </td><td> 0.000000</td><td> 4.280445</td><td> 6.542511</td><td>10.000000</td></tr>\n",
       "\t<tr><td> 0       </td><td> 0.000000</td><td> 0.000000</td><td> 2.800486</td><td> 4.280445</td></tr>\n",
       "\t<tr><td> 0       </td><td> 0.000000</td><td> 0.000000</td><td> 0.000000</td><td> 1.832221</td></tr>\n",
       "</tbody>\n",
       "</table>\n",
       "</dd>\n",
       "\t<dt>$u</dt>\n",
       "\t\t<dd>1.52846516032318</dd>\n",
       "\t<dt>$d</dt>\n",
       "\t\t<dd>0.654251091852535</dd>\n",
       "</dl>\n"
      ],
      "text/latex": [
       "\\begin{description}\n",
       "\\item[\\$tree] \\begin{tabular}{lllll}\n",
       "\t 10        & 15.284652 & 23.362057 & 35.708091 & 54.578573\\\\\n",
       "\t  0        &  6.542511 & 10.000000 & 15.284652 & 23.362057\\\\\n",
       "\t  0        &  0.000000 &  4.280445 &  6.542511 & 10.000000\\\\\n",
       "\t  0        &  0.000000 &  0.000000 &  2.800486 &  4.280445\\\\\n",
       "\t  0        &  0.000000 &  0.000000 &  0.000000 &  1.832221\\\\\n",
       "\\end{tabular}\n",
       "\n",
       "\\item[\\$u] 1.52846516032318\n",
       "\\item[\\$d] 0.654251091852535\n",
       "\\end{description}\n"
      ],
      "text/markdown": [
       "$tree\n",
       ":   \n",
       "| 10        | 15.284652 | 23.362057 | 35.708091 | 54.578573 |\n",
       "|  0        |  6.542511 | 10.000000 | 15.284652 | 23.362057 |\n",
       "|  0        |  0.000000 |  4.280445 |  6.542511 | 10.000000 |\n",
       "|  0        |  0.000000 |  0.000000 |  2.800486 |  4.280445 |\n",
       "|  0        |  0.000000 |  0.000000 |  0.000000 |  1.832221 |\n",
       "\n",
       "\n",
       "$u\n",
       ":   1.52846516032318\n",
       "$d\n",
       ":   0.654251091852535\n",
       "\n",
       "\n"
      ],
      "text/plain": [
       "$tree\n",
       "     [,1]      [,2]      [,3]      [,4]      [,5]\n",
       "[1,]   10 15.284652 23.362057 35.708091 54.578573\n",
       "[2,]    0  6.542511 10.000000 15.284652 23.362057\n",
       "[3,]    0  0.000000  4.280445  6.542511 10.000000\n",
       "[4,]    0  0.000000  0.000000  2.800486  4.280445\n",
       "[5,]    0  0.000000  0.000000  0.000000  1.832221\n",
       "\n",
       "$u\n",
       "[1] 1.528465\n",
       "\n",
       "$d\n",
       "[1] 0.6542511\n"
      ]
     },
     "metadata": {},
     "output_type": "display_data"
    }
   ],
   "source": [
    "Tree_Action=build_stock_tree(S=10, sigma=0.6, delta_t=1/2, N=4)\n",
    "Tree_Action"
   ]
  },
  {
   "cell_type": "code",
   "execution_count": 723,
   "metadata": {},
   "outputs": [
    {
     "data": {
      "image/png": "[encoded data removed]",
      "text/plain": [
       "plot without title"
      ]
     },
     "metadata": {},
     "output_type": "display_data"
    }
   ],
   "source": [
    "BinomialTreePlot(Tree_Action$tree, dy = 0.5, cex = 0.8, ylim = c(-4, 5),\n",
    "                 xlab = \"n\", ylab = \"Action Value\")"
   ]
  },
  {
   "cell_type": "markdown",
   "metadata": {},
   "source": [
    "#### 2.1.2- Calcule de l'unique probabilité risque neutre Q"
   ]
  },
  {
   "cell_type": "code",
   "execution_count": 724,
   "metadata": {},
   "outputs": [],
   "source": [
    "q_prob = function(r, delta_t, sigma) {\n",
    "  u = exp(sigma*sqrt(delta_t))\n",
    "  d = exp(-sigma*sqrt(delta_t))\n",
    "  \n",
    "  return((exp(r*delta_t) - d)/(u-d))\n",
    "}"
   ]
  },
  {
   "cell_type": "code",
   "execution_count": 725,
   "metadata": {},
   "outputs": [
    {
     "data": {
      "text/html": [
       "0.590432707786705"
      ],
      "text/latex": [
       "0.590432707786705"
      ],
      "text/markdown": [
       "0.590432707786705"
      ],
      "text/plain": [
       "[1] 0.5904327"
      ]
     },
     "metadata": {},
     "output_type": "display_data"
    }
   ],
   "source": [
    "q_prob(0.1, 1/5, 0.2)"
   ]
  },
  {
   "cell_type": "markdown",
   "metadata": {},
   "source": [
    "#### 2.1.3- l’arbre de l’évolution du prix de l’option"
   ]
  },
  {
   "cell_type": "code",
   "execution_count": 726,
   "metadata": {},
   "outputs": [],
   "source": [
    "\n",
    "value_binomial_option = function(Tree_Action, sigma, delta_t, r, K, type) {\n",
    "  q = q_prob(r, delta_t, sigma)\n",
    "  R=1+r  \n",
    "  if((Tree_Action$u>R)&(Tree_Action$d<R)) {\n",
    "      \n",
    "  option_tree = matrix(NA,ncol=ncol(Tree_Action$tree), nrow=nrow(Tree_Action$tree)) \n",
    "    \n",
    "  if(type == 'put') {\n",
    "    option_tree[,nrow(option_tree)] = pmax(K - Tree_Action$tree[,ncol(Tree_Action$tree)], 0)\n",
    "  } else if(type == 'call') {\n",
    "    option_tree[,nrow(option_tree)] = pmax(Tree_Action$tree[,ncol(Tree_Action$tree)] - K, 0)\n",
    "  } else if(type == 'strap') {\n",
    "    option_tree[,nrow(option_tree)] = pmax((2*Tree_Action$tree[,ncol(Tree_Action$tree)]) - (2*K), 0)\n",
    "  } else {\n",
    "     return(\"il faut choisir call ou put\")\n",
    "  }\n",
    "  }else {\n",
    "     return(\"Hypothèse AOA n \\'est pas Vérifié \")\n",
    "  }\n",
    "      \n",
    "  for (i in (nrow(Tree_Action$tree)-1):1) {\n",
    "    for(j in 1:i) {\n",
    "      \n",
    "      option_tree[j, i] = ((1-q)*option_tree[j,i+1] + q*option_tree[j+1,i+1])/exp(r*delta_t)\n",
    "      \n",
    "    }\n",
    "  }\n",
    "  return(option_tree)\n",
    "}"
   ]
  },
  {
   "cell_type": "code",
   "execution_count": 727,
   "metadata": {},
   "outputs": [
    {
     "data": {
      "text/html": [
       "<table>\n",
       "<tbody>\n",
       "\t<tr><td>2.449177 </td><td>5.1013335</td><td>10.21765 </td><td>19.250531</td></tr>\n",
       "\t<tr><td>      NA </td><td>0.6932446</td><td> 1.72682 </td><td> 4.301379</td></tr>\n",
       "\t<tr><td>      NA </td><td>       NA</td><td> 0.00000 </td><td> 0.000000</td></tr>\n",
       "\t<tr><td>      NA </td><td>       NA</td><td>      NA </td><td> 0.000000</td></tr>\n",
       "</tbody>\n",
       "</table>\n"
      ],
      "text/latex": [
       "\\begin{tabular}{llll}\n",
       "\t 2.449177  & 5.1013335 & 10.21765  & 19.250531\\\\\n",
       "\t       NA  & 0.6932446 &  1.72682  &  4.301379\\\\\n",
       "\t       NA  &        NA &  0.00000  &  0.000000\\\\\n",
       "\t       NA  &        NA &       NA  &  0.000000\\\\\n",
       "\\end{tabular}\n"
      ],
      "text/markdown": [
       "\n",
       "| 2.449177  | 5.1013335 | 10.21765  | 19.250531 |\n",
       "|       NA  | 0.6932446 |  1.72682  |  4.301379 |\n",
       "|       NA  |        NA |  0.00000  |  0.000000 |\n",
       "|       NA  |        NA |       NA  |  0.000000 |\n",
       "\n"
      ],
      "text/plain": [
       "     [,1]     [,2]      [,3]     [,4]     \n",
       "[1,] 2.449177 5.1013335 10.21765 19.250531\n",
       "[2,]       NA 0.6932446  1.72682  4.301379\n",
       "[3,]       NA        NA  0.00000  0.000000\n",
       "[4,]       NA        NA       NA  0.000000"
      ]
     },
     "metadata": {},
     "output_type": "display_data"
    }
   ],
   "source": [
    "tree = build_stock_tree(S=10, sigma=0.8, delta_t=1/5, N=3)\n",
    "tree_option=value_binomial_option(tree, sigma=0.2, delta_t=1/5, r=0.1, K=10, type='call')\n",
    "tree_option"
   ]
  },
  {
   "cell_type": "code",
   "execution_count": 728,
   "metadata": {},
   "outputs": [
    {
     "data": {
      "image/png": "[encoded data removed]",
      "text/plain": [
       "plot without title"
      ]
     },
     "metadata": {},
     "output_type": "display_data"
    }
   ],
   "source": [
    "BinomialTreePlot(tree_option, dy = 0.5, cex = 0.8, ylim = c(-4, 5),\n",
    "                 xlab = \"n\", ylab = \"Option Value\")"
   ]
  },
  {
   "cell_type": "code",
   "execution_count": 729,
   "metadata": {},
   "outputs": [],
   "source": [
    "binomial_option = function(type, sigma, T, r, K, S, N) {\n",
    "  if(type==\"put\" | type==\"call\" | type==\"strap\"){ \n",
    "  q = q_prob(r=r, delta_t=T/N, sigma=sigma)\n",
    "  tree = build_stock_tree(S=S, sigma=sigma, delta_t=T/N, N=N)\n",
    "  tree_v=replace(tree$tree,tree$tree==0,\".\")\n",
    "  \n",
    "  option = value_binomial_option(tree, sigma=sigma, delta_t=T/N ,r=r, K=K, type=type)\n",
    "  option_v=replace(option,is.na(option),\".\")\n",
    "  \n",
    "  delta = (option[2,2]-option[1,2])/(tree$tree[2,2]-tree$tree[1,2])\n",
    "  tree_action=BinomialTreePlot(tree$tree, dy = 0.5, cex = 0.8, ylim = c(-4, 4),\n",
    "                 xlab = \"n\", ylab = \"Action Value\")\n",
    "  tree_option=BinomialTreePlot(option, dy = 0.5, cex = 0.8, ylim = c(-4, 4),\n",
    "                 xlab = \"n\", ylab = \"Option Value\")  \n",
    "   \n",
    "  return(list(Q=q,U=tree$u , D=tree$d, Tree_Action=tree_v, Tree_Option=option_v, price=option[1,1], delta=delta))\n",
    "  }\n",
    "    return(\"le type est inn\")\n",
    "}"
   ]
  },
  {
   "cell_type": "markdown",
   "metadata": {},
   "source": [
    "### 2.1.4 Option Call européenne "
   ]
  },
  {
   "cell_type": "code",
   "execution_count": 730,
   "metadata": {},
   "outputs": [
    {
     "data": {
      "image/png": "[encoded data removed]",
      "text/plain": [
       "plot without title"
      ]
     },
     "metadata": {},
     "output_type": "display_data"
    },
    {
     "data": {
      "text/html": [
       "<dl>\n",
       "\t<dt>$Q</dt>\n",
       "\t\t<dd>0.617609016440398</dd>\n",
       "\t<dt>$U</dt>\n",
       "\t\t<dd>1.12240090244567</dd>\n",
       "\t<dt>$D</dt>\n",
       "\t\t<dd>0.890947252288411</dd>\n",
       "\t<dt>$Tree_Action</dt>\n",
       "\t\t<dd><table>\n",
       "<tbody>\n",
       "\t<tr><td>10              </td><td>11.2240090244567</td><td>12.5978378581085</td><td>14.1398245808052</td></tr>\n",
       "\t<tr><td>.               </td><td>8.90947252288411</td><td>10              </td><td>11.2240090244567</td></tr>\n",
       "\t<tr><td>.               </td><td>.               </td><td>7.93787006360269</td><td>8.90947252288411</td></tr>\n",
       "\t<tr><td>.               </td><td>.               </td><td>.               </td><td>7.07222352218925</td></tr>\n",
       "</tbody>\n",
       "</table>\n",
       "</dd>\n",
       "\t<dt>$Tree_Option</dt>\n",
       "\t\t<dd><table>\n",
       "<tbody>\n",
       "\t<tr><td>0.509505706073843</td><td>1.1071545797887  </td><td>2.26230937002727 </td><td>4.13982458080516 </td></tr>\n",
       "\t<tr><td>.                </td><td>0.167435267857835</td><td>0.45270551009493 </td><td>1.22400902445668 </td></tr>\n",
       "\t<tr><td>.                </td><td>.                </td><td>0                </td><td>0                </td></tr>\n",
       "\t<tr><td>.                </td><td>.                </td><td>.                </td><td>0                </td></tr>\n",
       "</tbody>\n",
       "</table>\n",
       "</dd>\n",
       "\t<dt>$price</dt>\n",
       "\t\t<dd>0.509505706073843</dd>\n",
       "\t<dt>$delta</dt>\n",
       "\t\t<dd>0.406007557578975</dd>\n",
       "</dl>\n"
      ],
      "text/latex": [
       "\\begin{description}\n",
       "\\item[\\$Q] 0.617609016440398\n",
       "\\item[\\$U] 1.12240090244567\n",
       "\\item[\\$D] 0.890947252288411\n",
       "\\item[\\$Tree\\_Action] \\begin{tabular}{llll}\n",
       "\t 10               & 11.2240090244567 & 12.5978378581085 & 14.1398245808052\\\\\n",
       "\t .                & 8.90947252288411 & 10               & 11.2240090244567\\\\\n",
       "\t .                & .                & 7.93787006360269 & 8.90947252288411\\\\\n",
       "\t .                & .                & .                & 7.07222352218925\\\\\n",
       "\\end{tabular}\n",
       "\n",
       "\\item[\\$Tree\\_Option] \\begin{tabular}{llll}\n",
       "\t 0.509505706073843 & 1.1071545797887   & 2.26230937002727  & 4.13982458080516 \\\\\n",
       "\t .                 & 0.167435267857835 & 0.45270551009493  & 1.22400902445668 \\\\\n",
       "\t .                 & .                 & 0                 & 0                \\\\\n",
       "\t .                 & .                 & .                 & 0                \\\\\n",
       "\\end{tabular}\n",
       "\n",
       "\\item[\\$price] 0.509505706073843\n",
       "\\item[\\$delta] 0.406007557578975\n",
       "\\end{description}\n"
      ],
      "text/markdown": [
       "$Q\n",
       ":   0.617609016440398\n",
       "$U\n",
       ":   1.12240090244567\n",
       "$D\n",
       ":   0.890947252288411\n",
       "$Tree_Action\n",
       ":   \n",
       "| 10               | 11.2240090244567 | 12.5978378581085 | 14.1398245808052 |\n",
       "| .                | 8.90947252288411 | 10               | 11.2240090244567 |\n",
       "| .                | .                | 7.93787006360269 | 8.90947252288411 |\n",
       "| .                | .                | .                | 7.07222352218925 |\n",
       "\n",
       "\n",
       "$Tree_Option\n",
       ":   \n",
       "| 0.509505706073843 | 1.1071545797887   | 2.26230937002727  | 4.13982458080516  |\n",
       "| .                 | 0.167435267857835 | 0.45270551009493  | 1.22400902445668  |\n",
       "| .                 | .                 | 0                 | 0                 |\n",
       "| .                 | .                 | .                 | 0                 |\n",
       "\n",
       "\n",
       "$price\n",
       ":   0.509505706073843\n",
       "$delta\n",
       ":   0.406007557578975\n",
       "\n",
       "\n"
      ],
      "text/plain": [
       "$Q\n",
       "[1] 0.617609\n",
       "\n",
       "$U\n",
       "[1] 1.122401\n",
       "\n",
       "$D\n",
       "[1] 0.8909473\n",
       "\n",
       "$Tree_Action\n",
       "     [,1] [,2]               [,3]               [,4]              \n",
       "[1,] \"10\" \"11.2240090244567\" \"12.5978378581085\" \"14.1398245808052\"\n",
       "[2,] \".\"  \"8.90947252288411\" \"10\"               \"11.2240090244567\"\n",
       "[3,] \".\"  \".\"                \"7.93787006360269\" \"8.90947252288411\"\n",
       "[4,] \".\"  \".\"                \".\"                \"7.07222352218925\"\n",
       "\n",
       "$Tree_Option\n",
       "     [,1]                [,2]                [,3]              \n",
       "[1,] \"0.509505706073843\" \"1.1071545797887\"   \"2.26230937002727\"\n",
       "[2,] \".\"                 \"0.167435267857835\" \"0.45270551009493\"\n",
       "[3,] \".\"                 \".\"                 \"0\"               \n",
       "[4,] \".\"                 \".\"                 \".\"               \n",
       "     [,4]              \n",
       "[1,] \"4.13982458080516\"\n",
       "[2,] \"1.22400902445668\"\n",
       "[3,] \"0\"               \n",
       "[4,] \"0\"               \n",
       "\n",
       "$price\n",
       "[1] 0.5095057\n",
       "\n",
       "$delta\n",
       "[1] 0.4060076\n"
      ]
     },
     "metadata": {},
     "output_type": "display_data"
    },
    {
     "data": {
      "image/png": "[encoded data removed]",
      "text/plain": [
       "plot without title"
      ]
     },
     "metadata": {},
     "output_type": "display_data"
    }
   ],
   "source": [
    "test_call =binomial_option(type='call', sigma=0.2, T=1, r=0.1, K=10, S=10, N=3)\n",
    "test_call"
   ]
  },
  {
   "cell_type": "markdown",
   "metadata": {},
   "source": [
    "### 2.1.5 Option Put européenne "
   ]
  },
  {
   "cell_type": "code",
   "execution_count": 731,
   "metadata": {},
   "outputs": [
    {
     "data": {
      "image/png": "[encoded data removed]",
      "text/plain": [
       "plot without title"
      ]
     },
     "metadata": {},
     "output_type": "display_data"
    },
    {
     "data": {
      "text/html": [
       "<dl>\n",
       "\t<dt>$Q</dt>\n",
       "\t\t<dd>0.617609016440398</dd>\n",
       "\t<dt>$U</dt>\n",
       "\t\t<dd>1.12240090244567</dd>\n",
       "\t<dt>$D</dt>\n",
       "\t\t<dd>0.890947252288411</dd>\n",
       "\t<dt>$Tree_Action</dt>\n",
       "\t\t<dd><table>\n",
       "<tbody>\n",
       "\t<tr><td>10              </td><td>11.2240090244567</td><td>12.5978378581085</td><td>14.1398245808052</td></tr>\n",
       "\t<tr><td>.               </td><td>8.90947252288411</td><td>10              </td><td>11.2240090244567</td></tr>\n",
       "\t<tr><td>.               </td><td>.               </td><td>7.93787006360269</td><td>8.90947252288411</td></tr>\n",
       "\t<tr><td>.               </td><td>.               </td><td>.               </td><td>7.07222352218925</td></tr>\n",
       "</tbody>\n",
       "</table>\n",
       "</dd>\n",
       "\t<dt>$Tree_Option</dt>\n",
       "\t\t<dd><table>\n",
       "<tbody>\n",
       "\t<tr><td>1.05587384940473 </td><td>0.389144505092255</td><td>0                </td><td>0                </td></tr>\n",
       "\t<tr><td>.                </td><td>1.52662515967052 </td><td>0.651439003569612</td><td>0                </td></tr>\n",
       "\t<tr><td>.                </td><td>.                </td><td>2.1522773406182  </td><td>1.09052747711589 </td></tr>\n",
       "\t<tr><td>.                </td><td>.                </td><td>.                </td><td>2.92777647781075 </td></tr>\n",
       "</tbody>\n",
       "</table>\n",
       "</dd>\n",
       "\t<dt>$price</dt>\n",
       "\t\t<dd>1.05587384940473</dd>\n",
       "\t<dt>$delta</dt>\n",
       "\t\t<dd>-0.49145073054818</dd>\n",
       "</dl>\n"
      ],
      "text/latex": [
       "\\begin{description}\n",
       "\\item[\\$Q] 0.617609016440398\n",
       "\\item[\\$U] 1.12240090244567\n",
       "\\item[\\$D] 0.890947252288411\n",
       "\\item[\\$Tree\\_Action] \\begin{tabular}{llll}\n",
       "\t 10               & 11.2240090244567 & 12.5978378581085 & 14.1398245808052\\\\\n",
       "\t .                & 8.90947252288411 & 10               & 11.2240090244567\\\\\n",
       "\t .                & .                & 7.93787006360269 & 8.90947252288411\\\\\n",
       "\t .                & .                & .                & 7.07222352218925\\\\\n",
       "\\end{tabular}\n",
       "\n",
       "\\item[\\$Tree\\_Option] \\begin{tabular}{llll}\n",
       "\t 1.05587384940473  & 0.389144505092255 & 0                 & 0                \\\\\n",
       "\t .                 & 1.52662515967052  & 0.651439003569612 & 0                \\\\\n",
       "\t .                 & .                 & 2.1522773406182   & 1.09052747711589 \\\\\n",
       "\t .                 & .                 & .                 & 2.92777647781075 \\\\\n",
       "\\end{tabular}\n",
       "\n",
       "\\item[\\$price] 1.05587384940473\n",
       "\\item[\\$delta] -0.49145073054818\n",
       "\\end{description}\n"
      ],
      "text/markdown": [
       "$Q\n",
       ":   0.617609016440398\n",
       "$U\n",
       ":   1.12240090244567\n",
       "$D\n",
       ":   0.890947252288411\n",
       "$Tree_Action\n",
       ":   \n",
       "| 10               | 11.2240090244567 | 12.5978378581085 | 14.1398245808052 |\n",
       "| .                | 8.90947252288411 | 10               | 11.2240090244567 |\n",
       "| .                | .                | 7.93787006360269 | 8.90947252288411 |\n",
       "| .                | .                | .                | 7.07222352218925 |\n",
       "\n",
       "\n",
       "$Tree_Option\n",
       ":   \n",
       "| 1.05587384940473  | 0.389144505092255 | 0                 | 0                 |\n",
       "| .                 | 1.52662515967052  | 0.651439003569612 | 0                 |\n",
       "| .                 | .                 | 2.1522773406182   | 1.09052747711589  |\n",
       "| .                 | .                 | .                 | 2.92777647781075  |\n",
       "\n",
       "\n",
       "$price\n",
       ":   1.05587384940473\n",
       "$delta\n",
       ":   -0.49145073054818\n",
       "\n",
       "\n"
      ],
      "text/plain": [
       "$Q\n",
       "[1] 0.617609\n",
       "\n",
       "$U\n",
       "[1] 1.122401\n",
       "\n",
       "$D\n",
       "[1] 0.8909473\n",
       "\n",
       "$Tree_Action\n",
       "     [,1] [,2]               [,3]               [,4]              \n",
       "[1,] \"10\" \"11.2240090244567\" \"12.5978378581085\" \"14.1398245808052\"\n",
       "[2,] \".\"  \"8.90947252288411\" \"10\"               \"11.2240090244567\"\n",
       "[3,] \".\"  \".\"                \"7.93787006360269\" \"8.90947252288411\"\n",
       "[4,] \".\"  \".\"                \".\"                \"7.07222352218925\"\n",
       "\n",
       "$Tree_Option\n",
       "     [,1]               [,2]                [,3]               \n",
       "[1,] \"1.05587384940473\" \"0.389144505092255\" \"0\"                \n",
       "[2,] \".\"                \"1.52662515967052\"  \"0.651439003569612\"\n",
       "[3,] \".\"                \".\"                 \"2.1522773406182\"  \n",
       "[4,] \".\"                \".\"                 \".\"                \n",
       "     [,4]              \n",
       "[1,] \"0\"               \n",
       "[2,] \"0\"               \n",
       "[3,] \"1.09052747711589\"\n",
       "[4,] \"2.92777647781075\"\n",
       "\n",
       "$price\n",
       "[1] 1.055874\n",
       "\n",
       "$delta\n",
       "[1] -0.4914507\n"
      ]
     },
     "metadata": {},
     "output_type": "display_data"
    },
    {
     "data": {
      "image/png": "[encoded data removed]",
      "text/plain": [
       "plot without title"
      ]
     },
     "metadata": {},
     "output_type": "display_data"
    }
   ],
   "source": [
    "test_call =binomial_option(type='put', sigma=0.2, T=1, r=0.1, K=10, S=10, N=3)\n",
    "test_call"
   ]
  },
  {
   "cell_type": "markdown",
   "metadata": {},
   "source": [
    "### 2.1.6 Option Strap européenne "
   ]
  },
  {
   "cell_type": "code",
   "execution_count": 732,
   "metadata": {},
   "outputs": [
    {
     "data": {
      "image/png": "[encoded data removed]",
      "text/plain": [
       "plot without title"
      ]
     },
     "metadata": {},
     "output_type": "display_data"
    },
    {
     "data": {
      "text/html": [
       "<dl>\n",
       "\t<dt>$Q</dt>\n",
       "\t\t<dd>0.617609016440398</dd>\n",
       "\t<dt>$U</dt>\n",
       "\t\t<dd>1.12240090244567</dd>\n",
       "\t<dt>$D</dt>\n",
       "\t\t<dd>0.890947252288411</dd>\n",
       "\t<dt>$Tree_Action</dt>\n",
       "\t\t<dd><table>\n",
       "<tbody>\n",
       "\t<tr><td>10              </td><td>11.2240090244567</td><td>12.5978378581085</td><td>14.1398245808052</td></tr>\n",
       "\t<tr><td>.               </td><td>8.90947252288411</td><td>10              </td><td>11.2240090244567</td></tr>\n",
       "\t<tr><td>.               </td><td>.               </td><td>7.93787006360269</td><td>8.90947252288411</td></tr>\n",
       "\t<tr><td>.               </td><td>.               </td><td>.               </td><td>7.07222352218925</td></tr>\n",
       "</tbody>\n",
       "</table>\n",
       "</dd>\n",
       "\t<dt>$Tree_Option</dt>\n",
       "\t\t<dd><table>\n",
       "<tbody>\n",
       "\t<tr><td>1.01901141214769 </td><td>2.21430915957739 </td><td>4.52461874005454 </td><td>8.27964916161033 </td></tr>\n",
       "\t<tr><td>.                </td><td>0.334870535715669</td><td>0.90541102018986 </td><td>2.44801804891335 </td></tr>\n",
       "\t<tr><td>.                </td><td>.                </td><td>0                </td><td>0                </td></tr>\n",
       "\t<tr><td>.                </td><td>.                </td><td>.                </td><td>0                </td></tr>\n",
       "</tbody>\n",
       "</table>\n",
       "</dd>\n",
       "\t<dt>$price</dt>\n",
       "\t\t<dd>1.01901141214769</dd>\n",
       "\t<dt>$delta</dt>\n",
       "\t\t<dd>0.81201511515795</dd>\n",
       "</dl>\n"
      ],
      "text/latex": [
       "\\begin{description}\n",
       "\\item[\\$Q] 0.617609016440398\n",
       "\\item[\\$U] 1.12240090244567\n",
       "\\item[\\$D] 0.890947252288411\n",
       "\\item[\\$Tree\\_Action] \\begin{tabular}{llll}\n",
       "\t 10               & 11.2240090244567 & 12.5978378581085 & 14.1398245808052\\\\\n",
       "\t .                & 8.90947252288411 & 10               & 11.2240090244567\\\\\n",
       "\t .                & .                & 7.93787006360269 & 8.90947252288411\\\\\n",
       "\t .                & .                & .                & 7.07222352218925\\\\\n",
       "\\end{tabular}\n",
       "\n",
       "\\item[\\$Tree\\_Option] \\begin{tabular}{llll}\n",
       "\t 1.01901141214769  & 2.21430915957739  & 4.52461874005454  & 8.27964916161033 \\\\\n",
       "\t .                 & 0.334870535715669 & 0.90541102018986  & 2.44801804891335 \\\\\n",
       "\t .                 & .                 & 0                 & 0                \\\\\n",
       "\t .                 & .                 & .                 & 0                \\\\\n",
       "\\end{tabular}\n",
       "\n",
       "\\item[\\$price] 1.01901141214769\n",
       "\\item[\\$delta] 0.81201511515795\n",
       "\\end{description}\n"
      ],
      "text/markdown": [
       "$Q\n",
       ":   0.617609016440398\n",
       "$U\n",
       ":   1.12240090244567\n",
       "$D\n",
       ":   0.890947252288411\n",
       "$Tree_Action\n",
       ":   \n",
       "| 10               | 11.2240090244567 | 12.5978378581085 | 14.1398245808052 |\n",
       "| .                | 8.90947252288411 | 10               | 11.2240090244567 |\n",
       "| .                | .                | 7.93787006360269 | 8.90947252288411 |\n",
       "| .                | .                | .                | 7.07222352218925 |\n",
       "\n",
       "\n",
       "$Tree_Option\n",
       ":   \n",
       "| 1.01901141214769  | 2.21430915957739  | 4.52461874005454  | 8.27964916161033  |\n",
       "| .                 | 0.334870535715669 | 0.90541102018986  | 2.44801804891335  |\n",
       "| .                 | .                 | 0                 | 0                 |\n",
       "| .                 | .                 | .                 | 0                 |\n",
       "\n",
       "\n",
       "$price\n",
       ":   1.01901141214769\n",
       "$delta\n",
       ":   0.81201511515795\n",
       "\n",
       "\n"
      ],
      "text/plain": [
       "$Q\n",
       "[1] 0.617609\n",
       "\n",
       "$U\n",
       "[1] 1.122401\n",
       "\n",
       "$D\n",
       "[1] 0.8909473\n",
       "\n",
       "$Tree_Action\n",
       "     [,1] [,2]               [,3]               [,4]              \n",
       "[1,] \"10\" \"11.2240090244567\" \"12.5978378581085\" \"14.1398245808052\"\n",
       "[2,] \".\"  \"8.90947252288411\" \"10\"               \"11.2240090244567\"\n",
       "[3,] \".\"  \".\"                \"7.93787006360269\" \"8.90947252288411\"\n",
       "[4,] \".\"  \".\"                \".\"                \"7.07222352218925\"\n",
       "\n",
       "$Tree_Option\n",
       "     [,1]               [,2]                [,3]              \n",
       "[1,] \"1.01901141214769\" \"2.21430915957739\"  \"4.52461874005454\"\n",
       "[2,] \".\"                \"0.334870535715669\" \"0.90541102018986\"\n",
       "[3,] \".\"                \".\"                 \"0\"               \n",
       "[4,] \".\"                \".\"                 \".\"               \n",
       "     [,4]              \n",
       "[1,] \"8.27964916161033\"\n",
       "[2,] \"2.44801804891335\"\n",
       "[3,] \"0\"               \n",
       "[4,] \"0\"               \n",
       "\n",
       "$price\n",
       "[1] 1.019011\n",
       "\n",
       "$delta\n",
       "[1] 0.8120151\n"
      ]
     },
     "metadata": {},
     "output_type": "display_data"
    },
    {
     "data": {
      "image/png": "[encoded data removed]",
      "text/plain": [
       "plot without title"
      ]
     },
     "metadata": {},
     "output_type": "display_data"
    }
   ],
   "source": [
    "test_call =binomial_option(type='strap', sigma=0.2, T=1, r=0.1, K=10, S=10, N=3)\n",
    "test_call"
   ]
  },
  {
   "cell_type": "markdown",
   "metadata": {},
   "source": [
    "## 2.2-  Creation d'un modèle binômial CRR\n",
    "### 2.2.1-  Creation d'un modèle binômial CRR Option Put Américain"
   ]
  },
  {
   "cell_type": "code",
   "execution_count": 733,
   "metadata": {},
   "outputs": [
    {
     "data": {
      "text/html": [
       "<table>\n",
       "<tbody>\n",
       "\t<tr><td>4.488599  </td><td>2.162590  </td><td> 0.6360052</td><td> 0.000000 </td><td> 0.000000 </td><td> 0.000000 </td></tr>\n",
       "\t<tr><td>0.000000  </td><td>6.959967  </td><td> 3.7712687</td><td> 1.301712 </td><td> 0.000000 </td><td> 0.000000 </td></tr>\n",
       "\t<tr><td>0.000000  </td><td>0.000000  </td><td>10.3616358</td><td> 6.378265 </td><td> 2.664213 </td><td> 0.000000 </td></tr>\n",
       "\t<tr><td>0.000000  </td><td>0.000000  </td><td> 0.0000000</td><td>14.639372 </td><td>10.311016 </td><td> 5.452843 </td></tr>\n",
       "\t<tr><td>0.000000  </td><td>0.000000  </td><td> 0.0000000</td><td> 0.000000 </td><td>18.495691 </td><td>14.639372 </td></tr>\n",
       "\t<tr><td>0.000000  </td><td>0.000000  </td><td> 0.0000000</td><td> 0.000000 </td><td> 0.000000 </td><td>21.931453 </td></tr>\n",
       "</tbody>\n",
       "</table>\n"
      ],
      "text/latex": [
       "\\begin{tabular}{llllll}\n",
       "\t 4.488599   & 2.162590   &  0.6360052 &  0.000000  &  0.000000  &  0.000000 \\\\\n",
       "\t 0.000000   & 6.959967   &  3.7712687 &  1.301712  &  0.000000  &  0.000000 \\\\\n",
       "\t 0.000000   & 0.000000   & 10.3616358 &  6.378265  &  2.664213  &  0.000000 \\\\\n",
       "\t 0.000000   & 0.000000   &  0.0000000 & 14.639372  & 10.311016  &  5.452843 \\\\\n",
       "\t 0.000000   & 0.000000   &  0.0000000 &  0.000000  & 18.495691  & 14.639372 \\\\\n",
       "\t 0.000000   & 0.000000   &  0.0000000 &  0.000000  &  0.000000  & 21.931453 \\\\\n",
       "\\end{tabular}\n"
      ],
      "text/markdown": [
       "\n",
       "| 4.488599   | 2.162590   |  0.6360052 |  0.000000  |  0.000000  |  0.000000  |\n",
       "| 0.000000   | 6.959967   |  3.7712687 |  1.301712  |  0.000000  |  0.000000  |\n",
       "| 0.000000   | 0.000000   | 10.3616358 |  6.378265  |  2.664213  |  0.000000  |\n",
       "| 0.000000   | 0.000000   |  0.0000000 | 14.639372  | 10.311016  |  5.452843  |\n",
       "| 0.000000   | 0.000000   |  0.0000000 |  0.000000  | 18.495691  | 14.639372  |\n",
       "| 0.000000   | 0.000000   |  0.0000000 |  0.000000  |  0.000000  | 21.931453  |\n",
       "\n"
      ],
      "text/plain": [
       "     [,1]     [,2]     [,3]       [,4]      [,5]      [,6]     \n",
       "[1,] 4.488599 2.162590  0.6360052  0.000000  0.000000  0.000000\n",
       "[2,] 0.000000 6.959967  3.7712687  1.301712  0.000000  0.000000\n",
       "[3,] 0.000000 0.000000 10.3616358  6.378265  2.664213  0.000000\n",
       "[4,] 0.000000 0.000000  0.0000000 14.639372 10.311016  5.452843\n",
       "[5,] 0.000000 0.000000  0.0000000  0.000000 18.495691 14.639372\n",
       "[6,] 0.000000 0.000000  0.0000000  0.000000  0.000000 21.931453"
      ]
     },
     "metadata": {},
     "output_type": "display_data"
    },
    {
     "data": {
      "image/png": "[encoded data removed]",
      "text/plain": [
       "Plot with title \"Option Put Américain \""
      ]
     },
     "metadata": {},
     "output_type": "display_data"
    }
   ],
   "source": [
    "CRRTree = BinomialTreeOption(TypeFlag = \"pa\", S = 50, \n",
    "                                            X = 50, Time = 0.4167, r = 0.1, b = 0.1, sigma = 0.4,n=5)\n",
    "CRRTree\n",
    "BinomialTreePlot(CRRTree, dy = 1, cex = 0.8, ylim = c(-6, 7),\n",
    "                 xlab = \"n\", ylab = \"Option Value\")\n",
    "\n",
    "title(main = \"Option Put Américain \")"
   ]
  },
  {
   "cell_type": "markdown",
   "metadata": {},
   "source": [
    "### 2.2.2-  Creation d'un modèle binômial CRR Option Call Américain"
   ]
  },
  {
   "cell_type": "code",
   "execution_count": 734,
   "metadata": {},
   "outputs": [
    {
     "data": {
      "text/html": [
       "<table>\n",
       "<tbody>\n",
       "\t<tr><td>6.359834  </td><td>9.873817  </td><td>14.8603783</td><td>21.526595 </td><td>29.769194 </td><td>39.067666 </td></tr>\n",
       "\t<tr><td>0.000000  </td><td>2.849468  </td><td> 4.9068087</td><td> 8.248509 </td><td>13.404740 </td><td>20.700103 </td></tr>\n",
       "\t<tr><td>0.000000  </td><td>0.000000  </td><td> 0.7793987</td><td> 1.549164 </td><td> 3.079181 </td><td> 6.120304 </td></tr>\n",
       "\t<tr><td>0.000000  </td><td>0.000000  </td><td> 0.0000000</td><td> 0.000000 </td><td> 0.000000 </td><td> 0.000000 </td></tr>\n",
       "\t<tr><td>0.000000  </td><td>0.000000  </td><td> 0.0000000</td><td> 0.000000 </td><td> 0.000000 </td><td> 0.000000 </td></tr>\n",
       "\t<tr><td>0.000000  </td><td>0.000000  </td><td> 0.0000000</td><td> 0.000000 </td><td> 0.000000 </td><td> 0.000000 </td></tr>\n",
       "</tbody>\n",
       "</table>\n"
      ],
      "text/latex": [
       "\\begin{tabular}{llllll}\n",
       "\t 6.359834   & 9.873817   & 14.8603783 & 21.526595  & 29.769194  & 39.067666 \\\\\n",
       "\t 0.000000   & 2.849468   &  4.9068087 &  8.248509  & 13.404740  & 20.700103 \\\\\n",
       "\t 0.000000   & 0.000000   &  0.7793987 &  1.549164  &  3.079181  &  6.120304 \\\\\n",
       "\t 0.000000   & 0.000000   &  0.0000000 &  0.000000  &  0.000000  &  0.000000 \\\\\n",
       "\t 0.000000   & 0.000000   &  0.0000000 &  0.000000  &  0.000000  &  0.000000 \\\\\n",
       "\t 0.000000   & 0.000000   &  0.0000000 &  0.000000  &  0.000000  &  0.000000 \\\\\n",
       "\\end{tabular}\n"
      ],
      "text/markdown": [
       "\n",
       "| 6.359834   | 9.873817   | 14.8603783 | 21.526595  | 29.769194  | 39.067666  |\n",
       "| 0.000000   | 2.849468   |  4.9068087 |  8.248509  | 13.404740  | 20.700103  |\n",
       "| 0.000000   | 0.000000   |  0.7793987 |  1.549164  |  3.079181  |  6.120304  |\n",
       "| 0.000000   | 0.000000   |  0.0000000 |  0.000000  |  0.000000  |  0.000000  |\n",
       "| 0.000000   | 0.000000   |  0.0000000 |  0.000000  |  0.000000  |  0.000000  |\n",
       "| 0.000000   | 0.000000   |  0.0000000 |  0.000000  |  0.000000  |  0.000000  |\n",
       "\n"
      ],
      "text/plain": [
       "     [,1]     [,2]     [,3]       [,4]      [,5]      [,6]     \n",
       "[1,] 6.359834 9.873817 14.8603783 21.526595 29.769194 39.067666\n",
       "[2,] 0.000000 2.849468  4.9068087  8.248509 13.404740 20.700103\n",
       "[3,] 0.000000 0.000000  0.7793987  1.549164  3.079181  6.120304\n",
       "[4,] 0.000000 0.000000  0.0000000  0.000000  0.000000  0.000000\n",
       "[5,] 0.000000 0.000000  0.0000000  0.000000  0.000000  0.000000\n",
       "[6,] 0.000000 0.000000  0.0000000  0.000000  0.000000  0.000000"
      ]
     },
     "metadata": {},
     "output_type": "display_data"
    },
    {
     "data": {
      "image/png": "[encoded data removed]",
      "text/plain": [
       "Plot with title \"Option Call Américain\""
      ]
     },
     "metadata": {},
     "output_type": "display_data"
    }
   ],
   "source": [
    "CRRTree = BinomialTreeOption(TypeFlag = \"ca\", S = 50, \n",
    "                                            X = 50, Time = 0.4167, r = 0.1, b = 0.1, sigma = 0.4,n=5)\n",
    "CRRTree\n",
    "BinomialTreePlot(CRRTree, dy = 1, cex = 0.8, ylim = c(-6, 7),\n",
    "                 xlab = \"n\", ylab = \"Option Value\")\n",
    "\n",
    "title(main = \"Option Call Américain\")"
   ]
  },
  {
   "cell_type": "markdown",
   "metadata": {},
   "source": [
    "### 2.2.3-  Creation d'un modèle binômial CRR Option Put européen"
   ]
  },
  {
   "cell_type": "code",
   "execution_count": 735,
   "metadata": {},
   "outputs": [
    {
     "data": {
      "text/html": [
       "<table>\n",
       "<tbody>\n",
       "\t<tr><td>4.319147 </td><td>2.114189 </td><td>0.6360052</td><td> 0.000000</td><td> 0.000000</td><td> 0.000000</td></tr>\n",
       "\t<tr><td>0.000000 </td><td>6.662987 </td><td>3.6722068</td><td> 1.301712</td><td> 0.000000</td><td> 0.000000</td></tr>\n",
       "\t<tr><td>0.000000 </td><td>0.000000 </td><td>9.8558131</td><td> 6.175514</td><td> 2.664213</td><td> 0.000000</td></tr>\n",
       "\t<tr><td>0.000000 </td><td>0.000000 </td><td>0.0000000</td><td>13.812879</td><td> 9.896048</td><td> 5.452843</td></tr>\n",
       "\t<tr><td>0.000000 </td><td>0.000000 </td><td>0.0000000</td><td> 0.000000</td><td>18.080723</td><td>14.639372</td></tr>\n",
       "\t<tr><td>0.000000 </td><td>0.000000 </td><td>0.0000000</td><td> 0.000000</td><td> 0.000000</td><td>21.931453</td></tr>\n",
       "</tbody>\n",
       "</table>\n"
      ],
      "text/latex": [
       "\\begin{tabular}{llllll}\n",
       "\t 4.319147  & 2.114189  & 0.6360052 &  0.000000 &  0.000000 &  0.000000\\\\\n",
       "\t 0.000000  & 6.662987  & 3.6722068 &  1.301712 &  0.000000 &  0.000000\\\\\n",
       "\t 0.000000  & 0.000000  & 9.8558131 &  6.175514 &  2.664213 &  0.000000\\\\\n",
       "\t 0.000000  & 0.000000  & 0.0000000 & 13.812879 &  9.896048 &  5.452843\\\\\n",
       "\t 0.000000  & 0.000000  & 0.0000000 &  0.000000 & 18.080723 & 14.639372\\\\\n",
       "\t 0.000000  & 0.000000  & 0.0000000 &  0.000000 &  0.000000 & 21.931453\\\\\n",
       "\\end{tabular}\n"
      ],
      "text/markdown": [
       "\n",
       "| 4.319147  | 2.114189  | 0.6360052 |  0.000000 |  0.000000 |  0.000000 |\n",
       "| 0.000000  | 6.662987  | 3.6722068 |  1.301712 |  0.000000 |  0.000000 |\n",
       "| 0.000000  | 0.000000  | 9.8558131 |  6.175514 |  2.664213 |  0.000000 |\n",
       "| 0.000000  | 0.000000  | 0.0000000 | 13.812879 |  9.896048 |  5.452843 |\n",
       "| 0.000000  | 0.000000  | 0.0000000 |  0.000000 | 18.080723 | 14.639372 |\n",
       "| 0.000000  | 0.000000  | 0.0000000 |  0.000000 |  0.000000 | 21.931453 |\n",
       "\n"
      ],
      "text/plain": [
       "     [,1]     [,2]     [,3]      [,4]      [,5]      [,6]     \n",
       "[1,] 4.319147 2.114189 0.6360052  0.000000  0.000000  0.000000\n",
       "[2,] 0.000000 6.662987 3.6722068  1.301712  0.000000  0.000000\n",
       "[3,] 0.000000 0.000000 9.8558131  6.175514  2.664213  0.000000\n",
       "[4,] 0.000000 0.000000 0.0000000 13.812879  9.896048  5.452843\n",
       "[5,] 0.000000 0.000000 0.0000000  0.000000 18.080723 14.639372\n",
       "[6,] 0.000000 0.000000 0.0000000  0.000000  0.000000 21.931453"
      ]
     },
     "metadata": {},
     "output_type": "display_data"
    },
    {
     "data": {
      "image/png": "[encoded data removed]",
      "text/plain": [
       "Plot with title \"Option Put Européen\""
      ]
     },
     "metadata": {},
     "output_type": "display_data"
    }
   ],
   "source": [
    "CRRTree = BinomialTreeOption(TypeFlag = \"pe\", S = 50, \n",
    "                                            X = 50, Time = 0.4167, r = 0.1, b = 0.1, sigma = 0.4,n=5)\n",
    "CRRTree\n",
    "BinomialTreePlot(CRRTree, dy = 1, cex = 0.8, ylim = c(-6, 7),\n",
    "                 xlab = \"n\", ylab = \"Option Value\")\n",
    "\n",
    "title(main = \"Option Put Européen\")"
   ]
  },
  {
   "cell_type": "markdown",
   "metadata": {},
   "source": [
    "### 2.2.4-  Creation d'un modèle binômial CRR Option Call européen"
   ]
  },
  {
   "cell_type": "code",
   "execution_count": 736,
   "metadata": {},
   "outputs": [
    {
     "data": {
      "text/html": [
       "<table>\n",
       "<tbody>\n",
       "\t<tr><td>6.359834  </td><td>9.873817  </td><td>14.8603783</td><td>21.526595 </td><td>29.769194 </td><td>39.067666 </td></tr>\n",
       "\t<tr><td>0.000000  </td><td>2.849468  </td><td> 4.9068087</td><td> 8.248509 </td><td>13.404740 </td><td>20.700103 </td></tr>\n",
       "\t<tr><td>0.000000  </td><td>0.000000  </td><td> 0.7793987</td><td> 1.549164 </td><td> 3.079181 </td><td> 6.120304 </td></tr>\n",
       "\t<tr><td>0.000000  </td><td>0.000000  </td><td> 0.0000000</td><td> 0.000000 </td><td> 0.000000 </td><td> 0.000000 </td></tr>\n",
       "\t<tr><td>0.000000  </td><td>0.000000  </td><td> 0.0000000</td><td> 0.000000 </td><td> 0.000000 </td><td> 0.000000 </td></tr>\n",
       "\t<tr><td>0.000000  </td><td>0.000000  </td><td> 0.0000000</td><td> 0.000000 </td><td> 0.000000 </td><td> 0.000000 </td></tr>\n",
       "</tbody>\n",
       "</table>\n"
      ],
      "text/latex": [
       "\\begin{tabular}{llllll}\n",
       "\t 6.359834   & 9.873817   & 14.8603783 & 21.526595  & 29.769194  & 39.067666 \\\\\n",
       "\t 0.000000   & 2.849468   &  4.9068087 &  8.248509  & 13.404740  & 20.700103 \\\\\n",
       "\t 0.000000   & 0.000000   &  0.7793987 &  1.549164  &  3.079181  &  6.120304 \\\\\n",
       "\t 0.000000   & 0.000000   &  0.0000000 &  0.000000  &  0.000000  &  0.000000 \\\\\n",
       "\t 0.000000   & 0.000000   &  0.0000000 &  0.000000  &  0.000000  &  0.000000 \\\\\n",
       "\t 0.000000   & 0.000000   &  0.0000000 &  0.000000  &  0.000000  &  0.000000 \\\\\n",
       "\\end{tabular}\n"
      ],
      "text/markdown": [
       "\n",
       "| 6.359834   | 9.873817   | 14.8603783 | 21.526595  | 29.769194  | 39.067666  |\n",
       "| 0.000000   | 2.849468   |  4.9068087 |  8.248509  | 13.404740  | 20.700103  |\n",
       "| 0.000000   | 0.000000   |  0.7793987 |  1.549164  |  3.079181  |  6.120304  |\n",
       "| 0.000000   | 0.000000   |  0.0000000 |  0.000000  |  0.000000  |  0.000000  |\n",
       "| 0.000000   | 0.000000   |  0.0000000 |  0.000000  |  0.000000  |  0.000000  |\n",
       "| 0.000000   | 0.000000   |  0.0000000 |  0.000000  |  0.000000  |  0.000000  |\n",
       "\n"
      ],
      "text/plain": [
       "     [,1]     [,2]     [,3]       [,4]      [,5]      [,6]     \n",
       "[1,] 6.359834 9.873817 14.8603783 21.526595 29.769194 39.067666\n",
       "[2,] 0.000000 2.849468  4.9068087  8.248509 13.404740 20.700103\n",
       "[3,] 0.000000 0.000000  0.7793987  1.549164  3.079181  6.120304\n",
       "[4,] 0.000000 0.000000  0.0000000  0.000000  0.000000  0.000000\n",
       "[5,] 0.000000 0.000000  0.0000000  0.000000  0.000000  0.000000\n",
       "[6,] 0.000000 0.000000  0.0000000  0.000000  0.000000  0.000000"
      ]
     },
     "metadata": {},
     "output_type": "display_data"
    },
    {
     "data": {
      "image/png": "[encoded data removed]",
      "text/plain": [
       "Plot with title \"Option Call Européen\""
      ]
     },
     "metadata": {},
     "output_type": "display_data"
    }
   ],
   "source": [
    "CRRTree = BinomialTreeOption(TypeFlag = \"ce\", S = 50, \n",
    "                                            X = 50, Time = 0.4167, r = 0.1, b = 0.1, sigma = 0.4,n=5)\n",
    "CRRTree\n",
    "BinomialTreePlot(CRRTree, dy = 1, cex = 0.8, ylim = c(-6, 7),\n",
    "                 xlab = \"n\", ylab = \"Option Value\")\n",
    "\n",
    "title(main = \"Option Call Européen\")"
   ]
  },
  {
   "cell_type": "markdown",
   "metadata": {},
   "source": [
    "## 2.3 Etude de la volatilité "
   ]
  },
  {
   "cell_type": "code",
   "execution_count": 737,
   "metadata": {},
   "outputs": [
    {
     "data": {
      "text/html": [
       "<table>\n",
       "<thead><tr><th scope=col>CRROptionValue</th><th scope=col>CRROptionValue1</th><th scope=col>CRROptionValue2</th></tr></thead>\n",
       "<tbody>\n",
       "\t<tr><td>      NA</td><td>      NA</td><td>      NA</td></tr>\n",
       "\t<tr><td>      NA</td><td>      NA</td><td>      NA</td></tr>\n",
       "\t<tr><td>4.644221</td><td>7.341943</td><td>8.676587</td></tr>\n",
       "\t<tr><td>4.138064</td><td>6.495108</td><td>7.664248</td></tr>\n",
       "\t<tr><td>4.488599</td><td>7.103950</td><td>8.399861</td></tr>\n",
       "\t<tr><td>4.174600</td><td>6.575692</td><td>7.767191</td></tr>\n",
       "\t<tr><td>4.440592</td><td>7.008550</td><td>8.281537</td></tr>\n",
       "\t<tr><td>4.208285</td><td>6.619752</td><td>7.816413</td></tr>\n",
       "\t<tr><td>4.404249</td><td>6.949428</td><td>8.212344</td></tr>\n",
       "\t<tr><td>4.220215</td><td>6.643681</td><td>7.849260</td></tr>\n",
       "\t<tr><td>4.383327</td><td>6.913872</td><td>8.173521</td></tr>\n",
       "\t<tr><td>4.232302</td><td>6.662468</td><td>7.872799</td></tr>\n",
       "\t<tr><td>4.370110</td><td>6.889102</td><td>8.143945</td></tr>\n",
       "\t<tr><td>4.240825</td><td>6.675263</td><td>7.887768</td></tr>\n",
       "\t<tr><td>4.357657</td><td>6.871888</td><td>8.123267</td></tr>\n",
       "\t<tr><td>4.245087</td><td>6.685491</td><td>7.900915</td></tr>\n",
       "\t<tr><td>4.348818</td><td>6.858218</td><td>8.107181</td></tr>\n",
       "\t<tr><td>4.249080</td><td>6.692977</td><td>7.910160</td></tr>\n",
       "\t<tr><td>4.342130</td><td>6.847016</td><td>8.094543</td></tr>\n",
       "\t<tr><td>4.252509</td><td>6.699020</td><td>7.917668</td></tr>\n",
       "\t<tr><td>4.336482</td><td>6.838340</td><td>8.084391</td></tr>\n",
       "\t<tr><td>4.255462</td><td>6.704373</td><td>7.923845</td></tr>\n",
       "\t<tr><td>4.331761</td><td>6.831639</td><td>8.075458</td></tr>\n",
       "\t<tr><td>4.257848</td><td>6.708908</td><td>7.928449</td></tr>\n",
       "\t<tr><td>4.328345</td><td>6.825438</td><td>8.067752</td></tr>\n",
       "\t<tr><td>4.260138</td><td>6.712247</td><td>7.932576</td></tr>\n",
       "\t<tr><td>4.325388</td><td>6.819998</td><td>8.061713</td></tr>\n",
       "\t<tr><td>4.262036</td><td>6.714983</td><td>7.936299</td></tr>\n",
       "\t<tr><td>4.322574</td><td>6.815282</td><td>8.056373</td></tr>\n",
       "\t<tr><td>4.263565</td><td>6.717492</td><td>7.939381</td></tr>\n",
       "\t<tr><td>4.320010</td><td>6.811378</td><td>8.051543</td></tr>\n",
       "\t<tr><td>4.264729</td><td>6.719857</td><td>7.942073</td></tr>\n",
       "\t<tr><td>4.317817</td><td>6.807919</td><td>8.047351</td></tr>\n",
       "\t<tr><td>4.265834</td><td>6.721794</td><td>7.944382</td></tr>\n",
       "\t<tr><td>4.315989</td><td>6.804705</td><td>8.043676</td></tr>\n",
       "\t<tr><td>4.266951</td><td>6.723453</td><td>7.946537</td></tr>\n",
       "\t<tr><td>4.314409</td><td>6.801925</td><td>8.040408</td></tr>\n",
       "\t<tr><td>4.268021</td><td>6.725023</td><td>7.948472</td></tr>\n",
       "\t<tr><td>4.312930</td><td>6.799509</td><td>8.037449</td></tr>\n",
       "\t<tr><td>4.268896</td><td>6.726494</td><td>7.950124</td></tr>\n",
       "\t<tr><td>4.311560</td><td>6.797229</td><td>8.034665</td></tr>\n",
       "\t<tr><td>4.269617</td><td>6.727737</td><td>7.951591</td></tr>\n",
       "\t<tr><td>4.310265</td><td>6.795169</td><td>8.032291</td></tr>\n",
       "\t<tr><td>4.270281</td><td>6.728864</td><td>7.953103</td></tr>\n",
       "\t<tr><td>4.309224</td><td>6.793252</td><td>8.030211</td></tr>\n",
       "\t<tr><td>4.271009</td><td>6.729868</td><td>7.954475</td></tr>\n",
       "\t<tr><td>4.308268</td><td>6.791532</td><td>8.028278</td></tr>\n",
       "\t<tr><td>4.271626</td><td>6.730828</td><td>7.955734</td></tr>\n",
       "\t<tr><td>4.307313</td><td>6.789971</td><td>8.026492</td></tr>\n",
       "\t<tr><td>4.272160</td><td>6.731691</td><td>7.956900</td></tr>\n",
       "</tbody>\n",
       "</table>\n"
      ],
      "text/latex": [
       "\\begin{tabular}{r|lll}\n",
       " CRROptionValue & CRROptionValue1 & CRROptionValue2\\\\\n",
       "\\hline\n",
       "\t       NA &       NA &       NA\\\\\n",
       "\t       NA &       NA &       NA\\\\\n",
       "\t 4.644221 & 7.341943 & 8.676587\\\\\n",
       "\t 4.138064 & 6.495108 & 7.664248\\\\\n",
       "\t 4.488599 & 7.103950 & 8.399861\\\\\n",
       "\t 4.174600 & 6.575692 & 7.767191\\\\\n",
       "\t 4.440592 & 7.008550 & 8.281537\\\\\n",
       "\t 4.208285 & 6.619752 & 7.816413\\\\\n",
       "\t 4.404249 & 6.949428 & 8.212344\\\\\n",
       "\t 4.220215 & 6.643681 & 7.849260\\\\\n",
       "\t 4.383327 & 6.913872 & 8.173521\\\\\n",
       "\t 4.232302 & 6.662468 & 7.872799\\\\\n",
       "\t 4.370110 & 6.889102 & 8.143945\\\\\n",
       "\t 4.240825 & 6.675263 & 7.887768\\\\\n",
       "\t 4.357657 & 6.871888 & 8.123267\\\\\n",
       "\t 4.245087 & 6.685491 & 7.900915\\\\\n",
       "\t 4.348818 & 6.858218 & 8.107181\\\\\n",
       "\t 4.249080 & 6.692977 & 7.910160\\\\\n",
       "\t 4.342130 & 6.847016 & 8.094543\\\\\n",
       "\t 4.252509 & 6.699020 & 7.917668\\\\\n",
       "\t 4.336482 & 6.838340 & 8.084391\\\\\n",
       "\t 4.255462 & 6.704373 & 7.923845\\\\\n",
       "\t 4.331761 & 6.831639 & 8.075458\\\\\n",
       "\t 4.257848 & 6.708908 & 7.928449\\\\\n",
       "\t 4.328345 & 6.825438 & 8.067752\\\\\n",
       "\t 4.260138 & 6.712247 & 7.932576\\\\\n",
       "\t 4.325388 & 6.819998 & 8.061713\\\\\n",
       "\t 4.262036 & 6.714983 & 7.936299\\\\\n",
       "\t 4.322574 & 6.815282 & 8.056373\\\\\n",
       "\t 4.263565 & 6.717492 & 7.939381\\\\\n",
       "\t 4.320010 & 6.811378 & 8.051543\\\\\n",
       "\t 4.264729 & 6.719857 & 7.942073\\\\\n",
       "\t 4.317817 & 6.807919 & 8.047351\\\\\n",
       "\t 4.265834 & 6.721794 & 7.944382\\\\\n",
       "\t 4.315989 & 6.804705 & 8.043676\\\\\n",
       "\t 4.266951 & 6.723453 & 7.946537\\\\\n",
       "\t 4.314409 & 6.801925 & 8.040408\\\\\n",
       "\t 4.268021 & 6.725023 & 7.948472\\\\\n",
       "\t 4.312930 & 6.799509 & 8.037449\\\\\n",
       "\t 4.268896 & 6.726494 & 7.950124\\\\\n",
       "\t 4.311560 & 6.797229 & 8.034665\\\\\n",
       "\t 4.269617 & 6.727737 & 7.951591\\\\\n",
       "\t 4.310265 & 6.795169 & 8.032291\\\\\n",
       "\t 4.270281 & 6.728864 & 7.953103\\\\\n",
       "\t 4.309224 & 6.793252 & 8.030211\\\\\n",
       "\t 4.271009 & 6.729868 & 7.954475\\\\\n",
       "\t 4.308268 & 6.791532 & 8.028278\\\\\n",
       "\t 4.271626 & 6.730828 & 7.955734\\\\\n",
       "\t 4.307313 & 6.789971 & 8.026492\\\\\n",
       "\t 4.272160 & 6.731691 & 7.956900\\\\\n",
       "\\end{tabular}\n"
      ],
      "text/markdown": [
       "\n",
       "| CRROptionValue | CRROptionValue1 | CRROptionValue2 |\n",
       "|---|---|---|\n",
       "|       NA |       NA |       NA |\n",
       "|       NA |       NA |       NA |\n",
       "| 4.644221 | 7.341943 | 8.676587 |\n",
       "| 4.138064 | 6.495108 | 7.664248 |\n",
       "| 4.488599 | 7.103950 | 8.399861 |\n",
       "| 4.174600 | 6.575692 | 7.767191 |\n",
       "| 4.440592 | 7.008550 | 8.281537 |\n",
       "| 4.208285 | 6.619752 | 7.816413 |\n",
       "| 4.404249 | 6.949428 | 8.212344 |\n",
       "| 4.220215 | 6.643681 | 7.849260 |\n",
       "| 4.383327 | 6.913872 | 8.173521 |\n",
       "| 4.232302 | 6.662468 | 7.872799 |\n",
       "| 4.370110 | 6.889102 | 8.143945 |\n",
       "| 4.240825 | 6.675263 | 7.887768 |\n",
       "| 4.357657 | 6.871888 | 8.123267 |\n",
       "| 4.245087 | 6.685491 | 7.900915 |\n",
       "| 4.348818 | 6.858218 | 8.107181 |\n",
       "| 4.249080 | 6.692977 | 7.910160 |\n",
       "| 4.342130 | 6.847016 | 8.094543 |\n",
       "| 4.252509 | 6.699020 | 7.917668 |\n",
       "| 4.336482 | 6.838340 | 8.084391 |\n",
       "| 4.255462 | 6.704373 | 7.923845 |\n",
       "| 4.331761 | 6.831639 | 8.075458 |\n",
       "| 4.257848 | 6.708908 | 7.928449 |\n",
       "| 4.328345 | 6.825438 | 8.067752 |\n",
       "| 4.260138 | 6.712247 | 7.932576 |\n",
       "| 4.325388 | 6.819998 | 8.061713 |\n",
       "| 4.262036 | 6.714983 | 7.936299 |\n",
       "| 4.322574 | 6.815282 | 8.056373 |\n",
       "| 4.263565 | 6.717492 | 7.939381 |\n",
       "| 4.320010 | 6.811378 | 8.051543 |\n",
       "| 4.264729 | 6.719857 | 7.942073 |\n",
       "| 4.317817 | 6.807919 | 8.047351 |\n",
       "| 4.265834 | 6.721794 | 7.944382 |\n",
       "| 4.315989 | 6.804705 | 8.043676 |\n",
       "| 4.266951 | 6.723453 | 7.946537 |\n",
       "| 4.314409 | 6.801925 | 8.040408 |\n",
       "| 4.268021 | 6.725023 | 7.948472 |\n",
       "| 4.312930 | 6.799509 | 8.037449 |\n",
       "| 4.268896 | 6.726494 | 7.950124 |\n",
       "| 4.311560 | 6.797229 | 8.034665 |\n",
       "| 4.269617 | 6.727737 | 7.951591 |\n",
       "| 4.310265 | 6.795169 | 8.032291 |\n",
       "| 4.270281 | 6.728864 | 7.953103 |\n",
       "| 4.309224 | 6.793252 | 8.030211 |\n",
       "| 4.271009 | 6.729868 | 7.954475 |\n",
       "| 4.308268 | 6.791532 | 8.028278 |\n",
       "| 4.271626 | 6.730828 | 7.955734 |\n",
       "| 4.307313 | 6.789971 | 8.026492 |\n",
       "| 4.272160 | 6.731691 | 7.956900 |\n",
       "\n"
      ],
      "text/plain": [
       "   CRROptionValue CRROptionValue1 CRROptionValue2\n",
       "1        NA             NA              NA       \n",
       "2        NA             NA              NA       \n",
       "3  4.644221       7.341943        8.676587       \n",
       "4  4.138064       6.495108        7.664248       \n",
       "5  4.488599       7.103950        8.399861       \n",
       "6  4.174600       6.575692        7.767191       \n",
       "7  4.440592       7.008550        8.281537       \n",
       "8  4.208285       6.619752        7.816413       \n",
       "9  4.404249       6.949428        8.212344       \n",
       "10 4.220215       6.643681        7.849260       \n",
       "11 4.383327       6.913872        8.173521       \n",
       "12 4.232302       6.662468        7.872799       \n",
       "13 4.370110       6.889102        8.143945       \n",
       "14 4.240825       6.675263        7.887768       \n",
       "15 4.357657       6.871888        8.123267       \n",
       "16 4.245087       6.685491        7.900915       \n",
       "17 4.348818       6.858218        8.107181       \n",
       "18 4.249080       6.692977        7.910160       \n",
       "19 4.342130       6.847016        8.094543       \n",
       "20 4.252509       6.699020        7.917668       \n",
       "21 4.336482       6.838340        8.084391       \n",
       "22 4.255462       6.704373        7.923845       \n",
       "23 4.331761       6.831639        8.075458       \n",
       "24 4.257848       6.708908        7.928449       \n",
       "25 4.328345       6.825438        8.067752       \n",
       "26 4.260138       6.712247        7.932576       \n",
       "27 4.325388       6.819998        8.061713       \n",
       "28 4.262036       6.714983        7.936299       \n",
       "29 4.322574       6.815282        8.056373       \n",
       "30 4.263565       6.717492        7.939381       \n",
       "31 4.320010       6.811378        8.051543       \n",
       "32 4.264729       6.719857        7.942073       \n",
       "33 4.317817       6.807919        8.047351       \n",
       "34 4.265834       6.721794        7.944382       \n",
       "35 4.315989       6.804705        8.043676       \n",
       "36 4.266951       6.723453        7.946537       \n",
       "37 4.314409       6.801925        8.040408       \n",
       "38 4.268021       6.725023        7.948472       \n",
       "39 4.312930       6.799509        8.037449       \n",
       "40 4.268896       6.726494        7.950124       \n",
       "41 4.311560       6.797229        8.034665       \n",
       "42 4.269617       6.727737        7.951591       \n",
       "43 4.310265       6.795169        8.032291       \n",
       "44 4.270281       6.728864        7.953103       \n",
       "45 4.309224       6.793252        8.030211       \n",
       "46 4.271009       6.729868        7.954475       \n",
       "47 4.308268       6.791532        8.028278       \n",
       "48 4.271626       6.730828        7.955734       \n",
       "49 4.307313       6.789971        8.026492       \n",
       "50 4.272160       6.731691        7.956900       "
      ]
     },
     "metadata": {},
     "output_type": "display_data"
    },
    {
     "data": {
      "image/png": "[encoded data removed]",
      "text/plain": [
       "plot without title"
      ]
     },
     "metadata": {},
     "output_type": "display_data"
    }
   ],
   "source": [
    "steps = 50\n",
    "CRROptionValue =  CRROptionValue1 = CRROptionValue2 = rep(NA, times = steps)\n",
    "for (n in 3:steps) { \n",
    "  CRROptionValue[n] = CRRBinomialTreeOption(TypeFlag = \"pa\", S = 50, \n",
    "                                            X = 50, Time = 0.4167, r = 0.1, b = 0.1, sigma = 0.4, n = n)@price\n",
    "  CRROptionValue1[n] = CRRBinomialTreeOption(TypeFlag = \"pa\", S = 50, \n",
    "                                          X = 50, Time = 0.4167, r = 0.1, b = 0.1, sigma = 0.6, n = n)@price \n",
    "  CRROptionValue2[n] = CRRBinomialTreeOption(TypeFlag = \"pa\", S = 50, \n",
    "                                              X = 50, Time = 0.4167, r = 0.1, b = 0.1, sigma =0.7, n = n)@price \n",
    "} \n",
    "plot(CRROptionValue[3:steps], type = \"l\", col = \"red\", ylab = \"Option Value\",ylim=c(4,8.7))\n",
    "lines(CRROptionValue1[3:steps],type = \"l\", col = \"green\", ylab = \"Option Value\")\n",
    "lines(CRROptionValue2[3:steps],type = \"l\", col = \"blue\", ylab = \"Option Value\")\n",
    "data.frame(CRROptionValue, CRROptionValue1, CRROptionValue2)"
   ]
  },
  {
   "cell_type": "markdown",
   "metadata": {},
   "source": [
    "## 2.4 Etude de l’effet du taux d’intérêt r "
   ]
  },
  {
   "cell_type": "code",
   "execution_count": 738,
   "metadata": {},
   "outputs": [
    {
     "data": {
      "image/png": "[encoded data removed]",
      "text/plain": [
       "plot without title"
      ]
     },
     "metadata": {},
     "output_type": "display_data"
    }
   ],
   "source": [
    "steps = 50\n",
    "CRROptionValue =  CRROptionValue1 = CRROptionValue2 = rep(NA, times = steps)\n",
    "for (n in 3:steps) { \n",
    "  CRROptionValue[n] = CRRBinomialTreeOption(TypeFlag = \"pa\", S = 50, \n",
    "                                            X = 50, Time = 0.4167, r = 0.05, b = 0.1, sigma = 0.4, n = n)@price\n",
    "  CRROptionValue1[n] = CRRBinomialTreeOption(TypeFlag = \"pa\", S = 50, \n",
    "                                          X = 50, Time = 0.4167, r = 0.4, b = 0.1, sigma = 0.4, n = n)@price \n",
    "  CRROptionValue2[n] = CRRBinomialTreeOption(TypeFlag = \"pa\", S = 50, \n",
    "                                              X = 50, Time = 0.4167, r = 0.9, b = 0.1, sigma = 0.4, n = n)@price \n",
    "} \n",
    "\n",
    "plot(CRROptionValue[3:steps], type = \"l\", col = \"red\", ylab = \"Option Value\",ylim=c(3.6,4.7))\n",
    "lines(CRROptionValue1[3:steps],type = \"l\", col = \"green\", ylab = \"Option Value\")\n",
    "lines(CRROptionValue2[3:steps],type = \"l\", col = \"blue\", ylab = \"Option Value\")\n"
   ]
  },
  {
   "cell_type": "markdown",
   "metadata": {},
   "source": [
    "## 2.5 Etude de l’effet de b "
   ]
  },
  {
   "cell_type": "code",
   "execution_count": 739,
   "metadata": {},
   "outputs": [
    {
     "data": {
      "image/png": "[encoded data removed]",
      "text/plain": [
       "plot without title"
      ]
     },
     "metadata": {},
     "output_type": "display_data"
    }
   ],
   "source": [
    "steps = 50\n",
    "CRROptionValue =  CRROptionValue1 = CRROptionValue2 = rep(NA, times = steps)\n",
    "for (n in 3:steps) { \n",
    "  CRROptionValue[n] = CRRBinomialTreeOption(TypeFlag = \"pa\", S = 50, \n",
    "                                            X = 50, Time = 0.4167, r = 0.4, b = 0.1, sigma = 0.4, n = n)@price\n",
    "  CRROptionValue1[n] = CRRBinomialTreeOption(TypeFlag = \"pa\", S = 50, \n",
    "                                          X = 50, Time = 0.4167, r = 0.4, b = 0.2, sigma = 0.4, n = n)@price \n",
    "  CRROptionValue2[n] = CRRBinomialTreeOption(TypeFlag = \"pa\", S = 50, \n",
    "                                              X = 50, Time = 0.4167, r = 0.4, b = 0.3, sigma = 0.4, n = n)@price \n",
    "} \n",
    "\n",
    "plot(CRROptionValue[3:steps], type = \"l\", col = \"red\", ylab = \"Option Value\",ylim=c(2.5,4.5))\n",
    "lines(CRROptionValue1[3:steps],type = \"l\", col = \"green\", ylab = \"Option Value\")\n",
    "lines(CRROptionValue2[3:steps],type = \"l\", col = \"blue\", ylab = \"Option Value\")\n"
   ]
  },
  {
   "cell_type": "markdown",
   "metadata": {},
   "source": [
    "# 3- Modélisation numérique du modèle Black & Scholes .\n",
    "## 3.1-  Creation d'un modèle Black & Scholes From scratch "
   ]
  },
  {
   "cell_type": "code",
   "execution_count": 740,
   "metadata": {},
   "outputs": [],
   "source": [
    "BlackScholes <- function(S, K, r, T, sig, type){\n",
    "  if(type==\"C\"){\n",
    "    d1 <- (log(S/K) + (r + sig^2/2)*T) / (sig*sqrt(T))\n",
    "    d2 <- d1 - sig*sqrt(T)\n",
    "    \n",
    "    value <- S*pnorm(d1) - K*exp(-r*T)*pnorm(d2)\n",
    "    return(value)}\n",
    "  \n",
    "  if(type==\"P\"){\n",
    "    d1 <- (log(S/K) + (r + sig^2/2)*T) / (sig*sqrt(T))\n",
    "    d2 <- d1 - sig*sqrt(T)\n",
    "    \n",
    "    value <-  (K*exp(-r*T)*pnorm(-d2) - S*pnorm(-d1))\n",
    "    return(value)}\n",
    "}"
   ]
  },
  {
   "cell_type": "markdown",
   "metadata": {},
   "source": [
    "#### 3.1.1- Modèle Black & Scholes Option Call"
   ]
  },
  {
   "cell_type": "code",
   "execution_count": 741,
   "metadata": {},
   "outputs": [
    {
     "data": {
      "text/html": [
       "16.9686780305039"
      ],
      "text/latex": [
       "16.9686780305039"
      ],
      "text/markdown": [
       "16.9686780305039"
      ],
      "text/plain": [
       "[1] 16.96868"
      ]
     },
     "metadata": {},
     "output_type": "display_data"
    }
   ],
   "source": [
    "call <- BlackScholes(110,100,0.04,1,0.2,\"C\")\n",
    "call"
   ]
  },
  {
   "cell_type": "markdown",
   "metadata": {},
   "source": [
    "#### 3.1.2- Modèle Black & Scholes Option Put"
   ]
  },
  {
   "cell_type": "code",
   "execution_count": 742,
   "metadata": {},
   "outputs": [
    {
     "data": {
      "text/html": [
       "3.0476219457362"
      ],
      "text/latex": [
       "3.0476219457362"
      ],
      "text/markdown": [
       "3.0476219457362"
      ],
      "text/plain": [
       "[1] 3.047622"
      ]
     },
     "metadata": {},
     "output_type": "display_data"
    }
   ],
   "source": [
    "Put <- BlackScholes(110,100,0.04,1,0.2,\"P\")\n",
    "Put"
   ]
  },
  {
   "cell_type": "markdown",
   "metadata": {},
   "source": [
    "### 3.2-  Creation d'un modèle Black & Scholes avec la bibliothèque qrmtools\n",
    "#### 3.2.1- Modèle Black & Scholes Option Call"
   ]
  },
  {
   "cell_type": "code",
   "execution_count": 743,
   "metadata": {},
   "outputs": [
    {
     "data": {
      "text/html": [
       "3.94968739845218"
      ],
      "text/latex": [
       "3.94968739845218"
      ],
      "text/markdown": [
       "3.94968739845218"
      ],
      "text/plain": [
       "[1] 3.949687"
      ]
     },
     "metadata": {},
     "output_type": "display_data"
    }
   ],
   "source": [
    "Black_Scholes(0, 110, 0.01, 0.2, 100, 1, \"put\")"
   ]
  },
  {
   "cell_type": "markdown",
   "metadata": {},
   "source": [
    "#### 3.2.2- Modèle Black & Scholes Option Call Avec les Indicateurs Grecs"
   ]
  },
  {
   "cell_type": "code",
   "execution_count": 744,
   "metadata": {},
   "outputs": [
    {
     "data": {
      "text/html": [
       "<dl class=dl-horizontal>\n",
       "\t<dt>delta</dt>\n",
       "\t\t<dd>-0.265476831310829</dd>\n",
       "\t<dt>theta</dt>\n",
       "\t\t<dd>-3.27474763021817</dd>\n",
       "\t<dt>rho</dt>\n",
       "\t\t<dd>-33.1521388426434</dd>\n",
       "\t<dt>vega</dt>\n",
       "\t\t<dd>36.062690186446</dd>\n",
       "\t<dt>gamma</dt>\n",
       "\t\t<dd>0.0149019380935727</dd>\n",
       "\t<dt>vanna</dt>\n",
       "\t\t<dd>-0.699207860007584</dd>\n",
       "\t<dt>vomma</dt>\n",
       "\t\t<dd>48.1898244619812</dd>\n",
       "</dl>\n"
      ],
      "text/latex": [
       "\\begin{description*}\n",
       "\\item[delta] -0.265476831310829\n",
       "\\item[theta] -3.27474763021817\n",
       "\\item[rho] -33.1521388426434\n",
       "\\item[vega] 36.062690186446\n",
       "\\item[gamma] 0.0149019380935727\n",
       "\\item[vanna] -0.699207860007584\n",
       "\\item[vomma] 48.1898244619812\n",
       "\\end{description*}\n"
      ],
      "text/markdown": [
       "delta\n",
       ":   -0.265476831310829theta\n",
       ":   -3.27474763021817rho\n",
       ":   -33.1521388426434vega\n",
       ":   36.062690186446gamma\n",
       ":   0.0149019380935727vanna\n",
       ":   -0.699207860007584vomma\n",
       ":   48.1898244619812\n",
       "\n"
      ],
      "text/plain": [
       "       delta        theta          rho         vega        gamma        vanna \n",
       " -0.26547683  -3.27474763 -33.15213884  36.06269019   0.01490194  -0.69920786 \n",
       "       vomma \n",
       " 48.18982446 "
      ]
     },
     "metadata": {},
     "output_type": "display_data"
    }
   ],
   "source": [
    "Black_Scholes_Greeks(0, 110, 0.01, 0.2, 100, 1, \"put\")"
   ]
  },
  {
   "cell_type": "markdown",
   "metadata": {},
   "source": [
    "#### 3.2.3- Modèle Black & Scholes Option Put"
   ]
  },
  {
   "cell_type": "code",
   "execution_count": 745,
   "metadata": {},
   "outputs": [
    {
     "data": {
      "text/html": [
       "14.9447040235354"
      ],
      "text/latex": [
       "14.9447040235354"
      ],
      "text/markdown": [
       "14.9447040235354"
      ],
      "text/plain": [
       "[1] 14.9447"
      ]
     },
     "metadata": {},
     "output_type": "display_data"
    }
   ],
   "source": [
    "Black_Scholes(0, 110, 0.01, 0.2, 100, 1, \"call\")"
   ]
  },
  {
   "cell_type": "markdown",
   "metadata": {},
   "source": [
    "#### 3.2.1- Modèle Black & Scholes Option Put avec les Indicateurs Grecs"
   ]
  },
  {
   "cell_type": "code",
   "execution_count": 746,
   "metadata": {},
   "outputs": [
    {
     "data": {
      "text/html": [
       "<dl class=dl-horizontal>\n",
       "\t<dt>delta</dt>\n",
       "\t\t<dd>0.734523168689171</dd>\n",
       "\t<dt>theta</dt>\n",
       "\t\t<dd>-4.26479746396733</dd>\n",
       "\t<dt>rho</dt>\n",
       "\t\t<dd>65.8528445322734</dd>\n",
       "\t<dt>vega</dt>\n",
       "\t\t<dd>36.062690186446</dd>\n",
       "\t<dt>gamma</dt>\n",
       "\t\t<dd>0.0149019380935727</dd>\n",
       "\t<dt>vanna</dt>\n",
       "\t\t<dd>-0.699207860007584</dd>\n",
       "\t<dt>vomma</dt>\n",
       "\t\t<dd>48.1898244619812</dd>\n",
       "</dl>\n"
      ],
      "text/latex": [
       "\\begin{description*}\n",
       "\\item[delta] 0.734523168689171\n",
       "\\item[theta] -4.26479746396733\n",
       "\\item[rho] 65.8528445322734\n",
       "\\item[vega] 36.062690186446\n",
       "\\item[gamma] 0.0149019380935727\n",
       "\\item[vanna] -0.699207860007584\n",
       "\\item[vomma] 48.1898244619812\n",
       "\\end{description*}\n"
      ],
      "text/markdown": [
       "delta\n",
       ":   0.734523168689171theta\n",
       ":   -4.26479746396733rho\n",
       ":   65.8528445322734vega\n",
       ":   36.062690186446gamma\n",
       ":   0.0149019380935727vanna\n",
       ":   -0.699207860007584vomma\n",
       ":   48.1898244619812\n",
       "\n"
      ],
      "text/plain": [
       "      delta       theta         rho        vega       gamma       vanna \n",
       " 0.73452317 -4.26479746 65.85284453 36.06269019  0.01490194 -0.69920786 \n",
       "      vomma \n",
       "48.18982446 "
      ]
     },
     "metadata": {},
     "output_type": "display_data"
    }
   ],
   "source": [
    "Black_Scholes_Greeks(0, 110, 0.01, 0.2, 100, 1, \"call\")"
   ]
  },
  {
   "cell_type": "markdown",
   "metadata": {},
   "source": [
    "# 4- Convergence de Cox-Rubinsteinau vers le modèle Black Scholes\n"
   ]
  },
  {
   "cell_type": "code",
   "execution_count": 747,
   "metadata": {},
   "outputs": [],
   "source": [
    "Convergence = function(steps,type,type_b,S,X,Time, sigma, r, b,title) {\n",
    "CRROptionValue  = rep(NA, times = steps)\n",
    "for (n in 3:steps) { \n",
    " CRROptionValue[n] = CRRBinomialTreeOption(TypeFlag = type, S = S, \n",
    "   X = X, Time = Time, r = r, b = b, sigma =sigma, n = n)@price\n",
    "     \n",
    "   }           \n",
    " plot(CRROptionValue[3:steps], type = \"l\", col = \"blue\", ylab = \"Option Value\",xlab=\"Step\") #Black_Scholes(S, X, r, Time, sigma, b, type_b)\n",
    "BAWValue =  BAWAmericanApproxOption(TypeFlag = type_b, S = S, \n",
    "X = X, Time = Time, r = r, b = b, sigma =sigma)@price\n",
    "abline(h = BAWValue, lty =5,col=\"red\")\n",
    "\n",
    "title(main = title)\n",
    "legend(\"topright\", legend=c(\"COX-ROSS \",\"Black & Scholes\"),col=c(\"blue\",\"red\"), lty=1:2, cex=0.8)\n",
    "}"
   ]
  },
  {
   "cell_type": "markdown",
   "metadata": {},
   "source": [
    "## 4.1-   Convergence Convergence d'un option Call Américain vers le modèle Black Scholes\n"
   ]
  },
  {
   "cell_type": "code",
   "execution_count": 751,
   "metadata": {},
   "outputs": [
    {
     "data": {
      "image/png": "[encoded data removed]",
      "text/plain": [
       "Plot with title \"Convergence d'un option Call Américain\""
      ]
     },
     "metadata": {},
     "output_type": "display_data"
    }
   ],
   "source": [
    "Convergence(steps=150,type=\"ca\",type_b=\"c\",S=50,X=50,Time=0.4167, sigma=0.4,  r=0.1, b=0.1,title=\"Convergence d'un option Call Américain\")"
   ]
  },
  {
   "cell_type": "markdown",
   "metadata": {},
   "source": [
    "## 4.1-   Convergence Convergence d'un option Put Américain vers le modèle Black Scholes"
   ]
  },
  {
   "cell_type": "code",
   "execution_count": 749,
   "metadata": {},
   "outputs": [
    {
     "data": {
      "image/png": "[encoded data removed]",
      "text/plain": [
       "Plot with title \"Convergence d'un option Put Américain\""
      ]
     },
     "metadata": {},
     "output_type": "display_data"
    }
   ],
   "source": [
    "Convergence(steps=200,type=\"pa\",type_b=\"p\",S=50,X=50,Time=0.4167, sigma=0.4,  r=0.1, b=0.1,title=\"Convergence d'un option Put Américain\")"
   ]
  },
  {
   "cell_type": "markdown",
   "metadata": {},
   "source": [
    "## 4.3 Étude de la vitesse de convergence du Model CRR"
   ]
  },
  {
   "cell_type": "code",
   "execution_count": 750,
   "metadata": {},
   "outputs": [
    {
     "data": {
      "image/png": "[encoded data removed]",
      "text/plain": [
       "Plot with title \"Convergence d'un option Call Américain avec 150 Step\""
      ]
     },
     "metadata": {},
     "output_type": "display_data"
    }
   ],
   "source": [
    "par(mfrow = c(3, 1), cex = 0.7)\n",
    "Convergence(steps=20,type=\"pa\",type_b=\"p\",S=50,X=50,Time=0.4167, sigma=0.4,  r=0.1, b=0.1,title=\"Convergence d'un option Call Américain avec 20 Step\")\n",
    "Convergence(steps=80,type=\"pa\",type_b=\"p\",S=50,X=50,Time=0.4167, sigma=0.4,  r=0.1, b=0.1,title=\"Convergence d'un option Call Américain avec 80 Step\")\n",
    "Convergence(steps=150,type=\"pa\",type_b=\"p\",S=50,X=50,Time=0.4167, sigma=0.4,  r=0.1, b=0.1,title=\"Convergence d'un option Call Américain avec 150 Step\")"
   ]
  },
  {
   "cell_type": "code",
   "execution_count": null,
   "metadata": {},
   "outputs": [],
   "source": []
  }
 ],
 "metadata": {
  "kernelspec": {
   "display_name": "R",
   "language": "R",
   "name": "ir"
  },
  "language_info": {
   "codemirror_mode": "r",
   "file_extension": ".r",
   "mimetype": "text/x-r-source",
   "name": "R",
   "pygments_lexer": "r",
   "version": "3.6.1"
  }
 },
 "nbformat": 4,
 "nbformat_minor": 4
}
